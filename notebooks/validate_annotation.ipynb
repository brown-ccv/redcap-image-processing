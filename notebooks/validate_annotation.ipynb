{
 "cells": [
  {
   "cell_type": "code",
   "execution_count": null,
   "metadata": {},
   "outputs": [],
   "source": [
    "import sys\n",
    "import os\n",
    "import csv\n",
    "import io\n",
    "from pprint import pprint\n",
    "import json\n",
    "\n",
    "sys.path.insert(0, os.path.abspath('../src'))\n",
    "import utilities as utils"
   ]
  },
  {
   "cell_type": "code",
   "execution_count": null,
   "metadata": {},
   "outputs": [],
   "source": [
    "# Read in config file\n",
    "config_file = '/Users/mslivins/Projects/redcap-image-processing/src/validation.env'\n",
    "config = utils.read_env(config_file)"
   ]
  },
  {
   "cell_type": "code",
   "execution_count": null,
   "metadata": {},
   "outputs": [],
   "source": [
    "# Request single record\n",
    "test_record = '94'\n",
    "data = {\n",
    "    'token': config['API_TOKEN'],\n",
    "    'content': 'record',\n",
    "    'action': 'export',\n",
    "    'format': 'csv',\n",
    "    'type': 'flat',\n",
    "    'csvDelimiter': '',\n",
    "    'records[0]': test_record,\n",
    "    'rawOrLabel': 'raw',\n",
    "    'rawOrLabelHeaders': 'raw',\n",
    "    'exportCheckboxLabel': 'false',\n",
    "    'exportSurveyFields': 'false',\n",
    "    'exportDataAccessGroups': 'false',\n",
    "    'returnFormat': 'csv'\n",
    "}\n",
    "r = utils.post_request(config['API_URL'], data)\n",
    "print('HTTP Status: ' + str(r.status_code))\n",
    "assert str(r.status_code) == '200', \"Need 200 successful response\"\n",
    "\n",
    "# Convert CSV request to dict records\n",
    "records = utils.records_to_dict(r.text)\n",
    "\n",
    "# Request single image upload\n",
    "test_img_upload = 'bl_c_img_view_1'\n",
    "data = {\n",
    "    'token': config['API_TOKEN'],\n",
    "    'content': 'file',\n",
    "    'action': 'export',\n",
    "    'record': test_record,\n",
    "    'field': test_img_upload,\n",
    "    'event': '',\n",
    "    'returnFormat': 'json'\n",
    "}\n",
    "r = utils.post_request(config['API_URL'], data)\n",
    "print('HTTP Status: ' + str(r.status_code))\n",
    "assert str(r.status_code) == '200', \"Need 200 successful response\"\n",
    "\n",
    "# Convert image file bytes to Image object \n",
    "image = utils.bytes_to_image(r.content)\n",
    "# image.show()\n",
    "\n",
    "# Add image to record\n",
    "# NOTE: testing only for single record a for a single image upload\n",
    "img_name = records[test_record][test_img_upload]\n",
    "records[test_record][test_img_upload] = {img_name: image}"
   ]
  },
  {
   "cell_type": "code",
   "execution_count": null,
   "metadata": {},
   "outputs": [],
   "source": [
    "# TODO: need to recreate annotations based on original image size\n",
    "\n",
    "\n",
    "# For each circled annotation, check if single annotation is within circled area\n",
    "# NOTE: We assume there is only one annotation area per set of individual \n",
    "# annotated scars.\n",
    "# TODO: this will need to change to handle multiple annotation areas\n",
    "for record_id, record in records.items():\n",
    "    # Get all annotation keys\n",
    "    annot_keys = [key for key in list(record.keys()) if 'annotate' in key]\n",
    "    # Convert string JSON into dictionary\n",
    "    annot_dict = {\n",
    "        annot_key: {} if record[annot_key] == '' else json.loads(record[annot_key])\n",
    "        for annot_key in annot_keys\n",
    "    }\n",
    "    \n",
    "    \n",
    "    # Get single area annotation key\n",
    "    # area_key = [annot_key for annot_key in annot_keys if 'annotate_all' in annot_key][0]\n",
    "    # Remove area annotation key from the other annotation keys\n",
    "    # annot_keys = list(set(annot_keys) - set([area_key]))\n",
    "    # Convert string JSON into dictionary\n",
    "    # print(annot_keys)\n",
    "\n",
    "# print(\n",
    "#     json.loads(records['94']['bl_c_img_flf_annotate_all'])\n",
    "# )\n"
   ]
  },
  {
   "cell_type": "code",
   "execution_count": null,
   "metadata": {},
   "outputs": [],
   "source": [
    "# help(r)"
   ]
  },
  {
   "cell_type": "code",
   "execution_count": null,
   "metadata": {},
   "outputs": [],
   "source": [
    "# For each circled annotation, check if single annotation is within circled area"
   ]
  }
 ],
 "metadata": {
  "interpreter": {
   "hash": "0fb2aa870e587b214a07e5b8985754724f870bf26e60f412e0f205dee22244b9"
  },
  "kernelspec": {
   "display_name": "Python 3.8.12 ('rdc-img-val')",
   "language": "python",
   "name": "python3"
  },
  "language_info": {
   "codemirror_mode": {
    "name": "ipython",
    "version": 3
   },
   "file_extension": ".py",
   "mimetype": "text/x-python",
   "name": "python",
   "nbconvert_exporter": "python",
   "pygments_lexer": "ipython3",
   "version": "3.8.12"
  },
  "orig_nbformat": 4
 },
 "nbformat": 4,
 "nbformat_minor": 2
}
